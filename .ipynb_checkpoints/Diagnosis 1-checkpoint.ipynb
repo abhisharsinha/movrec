{
 "cells": [
  {
   "cell_type": "code",
   "execution_count": null,
   "metadata": {
    "collapsed": true
   },
   "outputs": [],
   "source": [
    "#Error #1: movie_id was taken as int in python code"
   ]
  },
  {
   "cell_type": "code",
   "execution_count": 1,
   "metadata": {
    "collapsed": true
   },
   "outputs": [],
   "source": [
    "from pymongo import MongoClient"
   ]
  },
  {
   "cell_type": "code",
   "execution_count": 2,
   "metadata": {
    "collapsed": true
   },
   "outputs": [],
   "source": [
    "db = MongoClient(\"localhost\", 27017).movrec"
   ]
  },
  {
   "cell_type": "code",
   "execution_count": 8,
   "metadata": {},
   "outputs": [],
   "source": [
    "movie = list(db.Movies.find({\"movie_id\":\"50\"}))"
   ]
  },
  {
   "cell_type": "code",
   "execution_count": 9,
   "metadata": {},
   "outputs": [
    {
     "data": {
      "text/plain": [
       "[{'_id': ObjectId('5c13cb5487cba05168deaefc'),\n",
       "  'genres': ['Crime', 'Thriller'],\n",
       "  'imdb_id': '114814',\n",
       "  'movie_id': '50',\n",
       "  'title': 'Usual Suspects, The ',\n",
       "  'year': '1995'}]"
      ]
     },
     "execution_count": 9,
     "metadata": {},
     "output_type": "execute_result"
    }
   ],
   "source": [
    "movie"
   ]
  },
  {
   "cell_type": "code",
   "execution_count": null,
   "metadata": {
    "collapsed": true
   },
   "outputs": [],
   "source": [
    "# IMDB_id must be present"
   ]
  },
  {
   "cell_type": "code",
   "execution_count": 11,
   "metadata": {},
   "outputs": [
    {
     "data": {
      "text/plain": [
       "[{'_id': ObjectId('5ca20f991e54dc8f99463870'),\n",
       "  'genres': ['Animation', 'Adventure'],\n",
       "  'imdb_id': '910970',\n",
       "  'movie_id': '171997',\n",
       "  'title': 'WALL-E',\n",
       "  'year': '2008'}]"
      ]
     },
     "execution_count": 11,
     "metadata": {},
     "output_type": "execute_result"
    }
   ],
   "source": [
    "list(db.Movies.find({\"movie_id\":\"171997\"}))"
   ]
  },
  {
   "cell_type": "code",
   "execution_count": 12,
   "metadata": {
    "collapsed": true
   },
   "outputs": [],
   "source": [
    "#3 loading data into pandas from mongodb"
   ]
  },
  {
   "cell_type": "code",
   "execution_count": 136,
   "metadata": {
    "collapsed": true
   },
   "outputs": [],
   "source": [
    "movies = list(db.Movies.find())"
   ]
  },
  {
   "cell_type": "code",
   "execution_count": 137,
   "metadata": {},
   "outputs": [
    {
     "data": {
      "text/plain": [
       "3884"
      ]
     },
     "execution_count": 137,
     "metadata": {},
     "output_type": "execute_result"
    }
   ],
   "source": [
    "len(movies)"
   ]
  },
  {
   "cell_type": "code",
   "execution_count": 5,
   "metadata": {
    "collapsed": true
   },
   "outputs": [],
   "source": [
    "import pandas as pd"
   ]
  },
  {
   "cell_type": "code",
   "execution_count": 145,
   "metadata": {},
   "outputs": [
    {
     "data": {
      "text/html": [
       "<div>\n",
       "<style>\n",
       "    .dataframe thead tr:only-child th {\n",
       "        text-align: right;\n",
       "    }\n",
       "\n",
       "    .dataframe thead th {\n",
       "        text-align: left;\n",
       "    }\n",
       "\n",
       "    .dataframe tbody tr th {\n",
       "        vertical-align: top;\n",
       "    }\n",
       "</style>\n",
       "<table border=\"1\" class=\"dataframe\">\n",
       "  <thead>\n",
       "    <tr style=\"text-align: right;\">\n",
       "      <th></th>\n",
       "      <th>genres</th>\n",
       "      <th>imdb_id</th>\n",
       "      <th>movie_id</th>\n",
       "      <th>title</th>\n",
       "      <th>year</th>\n",
       "    </tr>\n",
       "    <tr>\n",
       "      <th>movie_id</th>\n",
       "      <th></th>\n",
       "      <th></th>\n",
       "      <th></th>\n",
       "      <th></th>\n",
       "      <th></th>\n",
       "    </tr>\n",
       "  </thead>\n",
       "  <tbody>\n",
       "    <tr>\n",
       "      <th>1</th>\n",
       "      <td>[Animation, Children's, Comedy]</td>\n",
       "      <td>114709</td>\n",
       "      <td>1</td>\n",
       "      <td>Toy Story</td>\n",
       "      <td>1995</td>\n",
       "    </tr>\n",
       "    <tr>\n",
       "      <th>2</th>\n",
       "      <td>[Adventure, Children's, Fantasy]</td>\n",
       "      <td>113497</td>\n",
       "      <td>2</td>\n",
       "      <td>Jumanji</td>\n",
       "      <td>1995</td>\n",
       "    </tr>\n",
       "    <tr>\n",
       "      <th>3</th>\n",
       "      <td>[Comedy, Romance]</td>\n",
       "      <td>113228</td>\n",
       "      <td>3</td>\n",
       "      <td>Grumpier Old Men</td>\n",
       "      <td>1995</td>\n",
       "    </tr>\n",
       "    <tr>\n",
       "      <th>4</th>\n",
       "      <td>[Comedy, Drama]</td>\n",
       "      <td>114885</td>\n",
       "      <td>4</td>\n",
       "      <td>Waiting to Exhale</td>\n",
       "      <td>1995</td>\n",
       "    </tr>\n",
       "    <tr>\n",
       "      <th>5</th>\n",
       "      <td>[Comedy]</td>\n",
       "      <td>113041</td>\n",
       "      <td>5</td>\n",
       "      <td>Father of the Bride Part II</td>\n",
       "      <td>1995</td>\n",
       "    </tr>\n",
       "  </tbody>\n",
       "</table>\n",
       "</div>"
      ],
      "text/plain": [
       "                                    genres imdb_id movie_id  \\\n",
       "movie_id                                                      \n",
       "1          [Animation, Children's, Comedy]  114709        1   \n",
       "2         [Adventure, Children's, Fantasy]  113497        2   \n",
       "3                        [Comedy, Romance]  113228        3   \n",
       "4                          [Comedy, Drama]  114885        4   \n",
       "5                                 [Comedy]  113041        5   \n",
       "\n",
       "                                 title  year  \n",
       "movie_id                                      \n",
       "1                           Toy Story   1995  \n",
       "2                             Jumanji   1995  \n",
       "3                    Grumpier Old Men   1995  \n",
       "4                   Waiting to Exhale   1995  \n",
       "5         Father of the Bride Part II   1995  "
      ]
     },
     "execution_count": 145,
     "metadata": {},
     "output_type": "execute_result"
    }
   ],
   "source": [
    "df = pd.DataFrame(movies)\n",
    "df.drop(labels=[\"_id\"], axis=1, inplace=True)\n",
    "df.index = df.movie_id.apply(int)\n",
    "df.dropna(axis=0, inplace=True)\n",
    "df.head()"
   ]
  },
  {
   "cell_type": "code",
   "execution_count": 124,
   "metadata": {},
   "outputs": [],
   "source": [
    "df.genres = df.genres.apply(lambda x: \" \".join(x))"
   ]
  },
  {
   "cell_type": "code",
   "execution_count": 125,
   "metadata": {},
   "outputs": [
    {
     "data": {
      "text/html": [
       "<div>\n",
       "<style>\n",
       "    .dataframe thead tr:only-child th {\n",
       "        text-align: right;\n",
       "    }\n",
       "\n",
       "    .dataframe thead th {\n",
       "        text-align: left;\n",
       "    }\n",
       "\n",
       "    .dataframe tbody tr th {\n",
       "        vertical-align: top;\n",
       "    }\n",
       "</style>\n",
       "<table border=\"1\" class=\"dataframe\">\n",
       "  <thead>\n",
       "    <tr style=\"text-align: right;\">\n",
       "      <th></th>\n",
       "      <th>genres</th>\n",
       "      <th>imdb_id</th>\n",
       "      <th>movie_id</th>\n",
       "      <th>title</th>\n",
       "      <th>year</th>\n",
       "    </tr>\n",
       "  </thead>\n",
       "  <tbody>\n",
       "    <tr>\n",
       "      <th>1</th>\n",
       "      <td>Animation Children's Comedy</td>\n",
       "      <td>114709</td>\n",
       "      <td>1</td>\n",
       "      <td>Toy Story</td>\n",
       "      <td>1995</td>\n",
       "    </tr>\n",
       "    <tr>\n",
       "      <th>2</th>\n",
       "      <td>Adventure Children's Fantasy</td>\n",
       "      <td>113497</td>\n",
       "      <td>2</td>\n",
       "      <td>Jumanji</td>\n",
       "      <td>1995</td>\n",
       "    </tr>\n",
       "    <tr>\n",
       "      <th>3</th>\n",
       "      <td>Comedy Romance</td>\n",
       "      <td>113228</td>\n",
       "      <td>3</td>\n",
       "      <td>Grumpier Old Men</td>\n",
       "      <td>1995</td>\n",
       "    </tr>\n",
       "    <tr>\n",
       "      <th>4</th>\n",
       "      <td>Comedy Drama</td>\n",
       "      <td>114885</td>\n",
       "      <td>4</td>\n",
       "      <td>Waiting to Exhale</td>\n",
       "      <td>1995</td>\n",
       "    </tr>\n",
       "    <tr>\n",
       "      <th>5</th>\n",
       "      <td>Comedy</td>\n",
       "      <td>113041</td>\n",
       "      <td>5</td>\n",
       "      <td>Father of the Bride Part II</td>\n",
       "      <td>1995</td>\n",
       "    </tr>\n",
       "  </tbody>\n",
       "</table>\n",
       "</div>"
      ],
      "text/plain": [
       "                          genres imdb_id movie_id  \\\n",
       "1   Animation Children's Comedy   114709        1   \n",
       "2  Adventure Children's Fantasy   113497        2   \n",
       "3                Comedy Romance   113228        3   \n",
       "4                  Comedy Drama   114885        4   \n",
       "5                        Comedy   113041        5   \n",
       "\n",
       "                          title  year  \n",
       "1                    Toy Story   1995  \n",
       "2                      Jumanji   1995  \n",
       "3             Grumpier Old Men   1995  \n",
       "4            Waiting to Exhale   1995  \n",
       "5  Father of the Bride Part II   1995  "
      ]
     },
     "execution_count": 125,
     "metadata": {},
     "output_type": "execute_result"
    }
   ],
   "source": [
    "df.head()"
   ]
  },
  {
   "cell_type": "code",
   "execution_count": 143,
   "metadata": {},
   "outputs": [
    {
     "data": {
      "text/plain": [
       "Index(['1', '2', '3', '4', '5', '6', '7', '8', '9', '10',\n",
       "       ...\n",
       "       '3944', '3945', '3946', '3947', '3948', '3949', '3950', '3951', '3952',\n",
       "       '171997'],\n",
       "      dtype='object', name='movie_id', length=3884)"
      ]
     },
     "execution_count": 143,
     "metadata": {},
     "output_type": "execute_result"
    }
   ],
   "source": [
    "df.index"
   ]
  },
  {
   "cell_type": "code",
   "execution_count": 142,
   "metadata": {},
   "outputs": [
    {
     "data": {
      "text/plain": [
       "genres      object\n",
       "imdb_id     object\n",
       "movie_id    object\n",
       "title       object\n",
       "year        object\n",
       "dtype: object"
      ]
     },
     "execution_count": 142,
     "metadata": {},
     "output_type": "execute_result"
    }
   ],
   "source": [
    "df.dtypes"
   ]
  },
  {
   "cell_type": "code",
   "execution_count": 146,
   "metadata": {
    "collapsed": true
   },
   "outputs": [],
   "source": [
    "# Content recommender issues"
   ]
  },
  {
   "cell_type": "code",
   "execution_count": 3,
   "metadata": {
    "collapsed": true
   },
   "outputs": [],
   "source": [
    "from sklearn.feature_extraction.text import TfidfVectorizer\n",
    "from sklearn.metrics.pairwise import cosine_similarity\n",
    "from sklearn.neighbors import NearestNeighbors"
   ]
  },
  {
   "cell_type": "code",
   "execution_count": 57,
   "metadata": {},
   "outputs": [],
   "source": [
    "# Content Based Recommender\n",
    "movies = list(db.Movies.find())\n",
    "movies = pd.DataFrame(movies)\n",
    "movies.drop(labels=[\"_id\"], axis=1, inplace=True)\n",
    "movies.index = movies.movie_id.apply(int)\n",
    "movies.dropna(axis=0, inplace=True)\n",
    "movies = movies.loc[:, [\"title\", \"genres\", \"year\"]]\n",
    "movies[\"tags\"] = movies.title + \" \" + movies.year.apply(str) + \" \" + movies.genres.apply(lambda x: \" \".join(x))\n",
    "tf_idf = TfidfVectorizer()\n",
    "X = tf_idf.fit_transform(movies.tags)\n",
    "sim_mat = cosine_similarity(X, X)\n",
    "# New code to fix indexing\n",
    "sim_mat = pd.DataFrame(sim_mat)\n",
    "sim_mat.index = movies.index"
   ]
  },
  {
   "cell_type": "code",
   "execution_count": null,
   "metadata": {
    "collapsed": true
   },
   "outputs": [],
   "source": []
  },
  {
   "cell_type": "code",
   "execution_count": 58,
   "metadata": {
    "collapsed": true
   },
   "outputs": [],
   "source": [
    "def kContent(index, k = 10):\n",
    "    indices = []\n",
    "    score_series = pd.Series(sim_mat.ix[index]).sort_values(ascending = False)\n",
    "    similarities = list(score_series.iloc[1:k+1])\n",
    "    top_k_indexes = list(score_series.iloc[1:k+1].index)\n",
    "    print(top_k_indexes)\n",
    "\n",
    "    for i in top_k_indexes:\n",
    "        indices.append(list(movies.index)[i])\n",
    "    print(\"Content generated\")\n",
    "    return similarities, indices"
   ]
  },
  {
   "cell_type": "code",
   "execution_count": 59,
   "metadata": {
    "scrolled": true
   },
   "outputs": [
    {
     "name": "stdout",
     "output_type": "stream",
     "text": [
      "[686, 5, 2492, 21, 168, 3694, 3695, 256, 46, 3825]\n",
      "Content generated\n"
     ]
    },
    {
     "name": "stderr",
     "output_type": "stream",
     "text": [
      "d:\\applications\\devtools\\anaconda\\envs\\ilearn\\lib\\site-packages\\ipykernel_launcher.py:3: DeprecationWarning: \n",
      ".ix is deprecated. Please use\n",
      ".loc for label based indexing or\n",
      ".iloc for positional indexing\n",
      "\n",
      "See the documentation here:\n",
      "http://pandas.pydata.org/pandas-docs/stable/indexing.html#ix-indexer-is-deprecated\n",
      "  This is separate from the ipykernel package so we can avoid doing imports until\n"
     ]
    },
    {
     "data": {
      "text/plain": [
       "([0.25613291220349843,\n",
       "  0.2553055777773684,\n",
       "  0.25132892181995814,\n",
       "  0.24879190908512705,\n",
       "  0.24277201018520411,\n",
       "  0.2415198178540533,\n",
       "  0.24113123241637172,\n",
       "  0.2252057478959654,\n",
       "  0.21054876357966143,\n",
       "  0.19579735828227116],\n",
       " [695, 6, 2561, 22, 170, 3763, 3764, 259, 47, 3895])"
      ]
     },
     "execution_count": 59,
     "metadata": {},
     "output_type": "execute_result"
    }
   ],
   "source": [
    "kContent(50)"
   ]
  },
  {
   "cell_type": "code",
   "execution_count": 19,
   "metadata": {
    "collapsed": true
   },
   "outputs": [],
   "source": [
    "ratings_list = list(db.Movies.find({\"movie_id\":\"171997\"}))"
   ]
  },
  {
   "cell_type": "code",
   "execution_count": 18,
   "metadata": {},
   "outputs": [
    {
     "data": {
      "text/plain": [
       "{'_id': ObjectId('5c13cb5487cba05168deb551'),\n",
       " 'genres': ['Drama'],\n",
       " 'imdb_id': '120255',\n",
       " 'movie_id': '1719',\n",
       " 'title': 'Sweet Hereafter, The ',\n",
       " 'year': '1997'}"
      ]
     },
     "execution_count": 18,
     "metadata": {},
     "output_type": "execute_result"
    }
   ],
   "source": [
    "ratings_list[0]"
   ]
  },
  {
   "cell_type": "code",
   "execution_count": 20,
   "metadata": {},
   "outputs": [
    {
     "data": {
      "text/plain": [
       "{'_id': ObjectId('5ca20f991e54dc8f99463870'),\n",
       " 'genres': ['Animation', 'Adventure'],\n",
       " 'imdb_id': '910970',\n",
       " 'movie_id': '171997',\n",
       " 'title': 'WALL-E',\n",
       " 'year': '2008'}"
      ]
     },
     "execution_count": 20,
     "metadata": {},
     "output_type": "execute_result"
    }
   ],
   "source": [
    "ratings_list[0]"
   ]
  },
  {
   "cell_type": "code",
   "execution_count": 54,
   "metadata": {},
   "outputs": [
    {
     "name": "stdout",
     "output_type": "stream",
     "text": [
      "{'_id': ObjectId('5ca20f991e54dc8f99463870'), 'title': 'WALL-E', 'year': '2008', 'imdb_id': '910970', 'movie_id': '171997', 'genres': ['Animation', 'Adventure']}\n",
      "[1278, 3676, 1526, 1254, 554]\n",
      "Content generated\n"
     ]
    }
   ],
   "source": [
    "# print(movie_id)\n",
    "movie = list(db.Movies.find({\"movie_id\":str(171997)}))[0]\n",
    "print(movie)\n",
    "_, indices = kContent(int(171997), 5)"
   ]
  },
  {
   "cell_type": "code",
   "execution_count": 27,
   "metadata": {},
   "outputs": [
    {
     "data": {
      "text/plain": [
       "array([[ 1.        ,  0.17586746,  0.09770404, ...,  0.        ,\n",
       "         0.        ,  0.12963051],\n",
       "       [ 0.17586746,  1.        ,  0.07331934, ...,  0.        ,\n",
       "         0.        ,  0.08393338],\n",
       "       [ 0.09770404,  0.07331934,  1.        , ...,  0.        ,\n",
       "         0.        ,  0.        ],\n",
       "       ..., \n",
       "       [ 0.        ,  0.        ,  0.        , ...,  1.        ,\n",
       "         0.16779288,  0.        ],\n",
       "       [ 0.        ,  0.        ,  0.        , ...,  0.16779288,\n",
       "         1.        ,  0.        ],\n",
       "       [ 0.12963051,  0.08393338,  0.        , ...,  0.        ,\n",
       "         0.        ,  1.        ]])"
      ]
     },
     "execution_count": 27,
     "metadata": {},
     "output_type": "execute_result"
    }
   ],
   "source": [
    "sim_mat.in"
   ]
  },
  {
   "cell_type": "code",
   "execution_count": 34,
   "metadata": {},
   "outputs": [],
   "source": [
    "sim_mat = pd.DataFrame(sim_mat)"
   ]
  },
  {
   "cell_type": "code",
   "execution_count": 41,
   "metadata": {},
   "outputs": [],
   "source": [
    "sim_mat.index = movies.index"
   ]
  },
  {
   "cell_type": "code",
   "execution_count": 48,
   "metadata": {},
   "outputs": [
    {
     "data": {
      "text/html": [
       "<div>\n",
       "<style>\n",
       "    .dataframe thead tr:only-child th {\n",
       "        text-align: right;\n",
       "    }\n",
       "\n",
       "    .dataframe thead th {\n",
       "        text-align: left;\n",
       "    }\n",
       "\n",
       "    .dataframe tbody tr th {\n",
       "        vertical-align: top;\n",
       "    }\n",
       "</style>\n",
       "<table border=\"1\" class=\"dataframe\">\n",
       "  <thead>\n",
       "    <tr style=\"text-align: right;\">\n",
       "      <th></th>\n",
       "      <th>title</th>\n",
       "      <th>genres</th>\n",
       "      <th>year</th>\n",
       "      <th>tags</th>\n",
       "    </tr>\n",
       "    <tr>\n",
       "      <th>movie_id</th>\n",
       "      <th></th>\n",
       "      <th></th>\n",
       "      <th></th>\n",
       "      <th></th>\n",
       "    </tr>\n",
       "  </thead>\n",
       "  <tbody>\n",
       "    <tr>\n",
       "      <th>3949</th>\n",
       "      <td>Requiem for a Dream</td>\n",
       "      <td>[Drama]</td>\n",
       "      <td>2000</td>\n",
       "      <td>Requiem for a Dream  2000 Drama</td>\n",
       "    </tr>\n",
       "    <tr>\n",
       "      <th>3950</th>\n",
       "      <td>Tigerland</td>\n",
       "      <td>[Drama]</td>\n",
       "      <td>2000</td>\n",
       "      <td>Tigerland  2000 Drama</td>\n",
       "    </tr>\n",
       "    <tr>\n",
       "      <th>3951</th>\n",
       "      <td>Two Family House</td>\n",
       "      <td>[Drama]</td>\n",
       "      <td>2000</td>\n",
       "      <td>Two Family House  2000 Drama</td>\n",
       "    </tr>\n",
       "    <tr>\n",
       "      <th>3952</th>\n",
       "      <td>Contender, The</td>\n",
       "      <td>[Drama, Thriller]</td>\n",
       "      <td>2000</td>\n",
       "      <td>Contender, The  2000 Drama Thriller</td>\n",
       "    </tr>\n",
       "    <tr>\n",
       "      <th>171997</th>\n",
       "      <td>WALL-E</td>\n",
       "      <td>[Animation, Adventure]</td>\n",
       "      <td>2008</td>\n",
       "      <td>WALL-E 2008 Animation Adventure</td>\n",
       "    </tr>\n",
       "  </tbody>\n",
       "</table>\n",
       "</div>"
      ],
      "text/plain": [
       "                         title                  genres  year  \\\n",
       "movie_id                                                       \n",
       "3949      Requiem for a Dream                  [Drama]  2000   \n",
       "3950                Tigerland                  [Drama]  2000   \n",
       "3951         Two Family House                  [Drama]  2000   \n",
       "3952           Contender, The        [Drama, Thriller]  2000   \n",
       "171997                  WALL-E  [Animation, Adventure]  2008   \n",
       "\n",
       "                                         tags  \n",
       "movie_id                                       \n",
       "3949          Requiem for a Dream  2000 Drama  \n",
       "3950                    Tigerland  2000 Drama  \n",
       "3951             Two Family House  2000 Drama  \n",
       "3952      Contender, The  2000 Drama Thriller  \n",
       "171997        WALL-E 2008 Animation Adventure  "
      ]
     },
     "execution_count": 48,
     "metadata": {},
     "output_type": "execute_result"
    }
   ],
   "source": [
    "movies.tail()"
   ]
  }
 ],
 "metadata": {
  "kernelspec": {
   "display_name": "Python 3",
   "language": "python",
   "name": "python3"
  },
  "language_info": {
   "codemirror_mode": {
    "name": "ipython",
    "version": 3
   },
   "file_extension": ".py",
   "mimetype": "text/x-python",
   "name": "python",
   "nbconvert_exporter": "python",
   "pygments_lexer": "ipython3",
   "version": "3.5.4"
  }
 },
 "nbformat": 4,
 "nbformat_minor": 2
}
